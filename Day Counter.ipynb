{
 "cells": [
  {
   "cell_type": "markdown",
   "metadata": {},
   "source": [
    "## Make No Changes in These Cells"
   ]
  },
  {
   "cell_type": "code",
   "execution_count": 15,
   "metadata": {},
   "outputs": [],
   "source": [
    "from tabulate import tabulate\n",
    "from datetime import datetime, timedelta\n",
    "import pandas as pd"
   ]
  },
  {
   "cell_type": "code",
   "execution_count": 38,
   "metadata": {},
   "outputs": [],
   "source": [
    "def abroad(abroad_list):\n",
    "\n",
    "    more = input('Do you want to add more dates you worked from abroad? [Yes/No]')\n",
    "\n",
    "    while more == 'Yes':\n",
    "\n",
    "        year = input('Input the year of the date: ')\n",
    "        month = input('Input the month of the date, in words: ')\n",
    "        \n",
    "        full = input('Did you worked full month from abroad? [Yes/No]')\n",
    "\n",
    "        if full == 'Yes':\n",
    "            date = str(year) + ',' + month\n",
    "        elif full == 'No':\n",
    "            start_day = input('Input start day of the date: ')\n",
    "            end_day = input('Input end day of the date: ') \n",
    "            date = str(year) + ',' + month + ',' + str(start_day) + '-' + str(end_day)\n",
    "\n",
    "        abroad_list.append(date)\n",
    "        more = input('Do you want to add more dates you worked from abroad? [Yes/No]')\n",
    "        \n",
    "    return abroad_list"
   ]
  },
  {
   "cell_type": "code",
   "execution_count": 30,
   "metadata": {},
   "outputs": [],
   "source": [
    "def count_days(dbf,abroad_list):\n",
    "    \n",
    "    table = [['Day', 'Month','Year']] \n",
    "    for i in range(365):\n",
    "        date = dbf + timedelta(days = i)\n",
    "        table.append([date.day,date.strftime(\"%B\"),date.year])\n",
    "    df_year = pd.DataFrame(table[1:],columns=table[0])\n",
    "\n",
    "    abroad_list = abroad(abroad_list)\n",
    "    \n",
    "    count = 0\n",
    "\n",
    "    for i in abroad_list:\n",
    "        date = i.split(',')\n",
    "        if len(date) == 2:\n",
    "            part = df_year[(df_year['Year'] == int(date[0])) & (df_year['Month'] == date[1])]\n",
    "            count = count + len(part)\n",
    "        else:\n",
    "            start_day, end_day = date[2].split('-')\n",
    "            part = df_year[(df_year['Year'] == int(date[0])) & (df_year['Month'] == date[1]) & (df_year['Day'] >= int(start_day)) & (df_year['Day'] <= int(end_day))]\n",
    "            count = count + len(part)\n",
    "            \n",
    "    print(\"Days abroad in the last year:\",count)\n",
    "    print(\"Days abroad left:\", 180 - count)\n",
    "    print('Days you worked from abroad: ', abroad_list)"
   ]
  },
  {
   "cell_type": "code",
   "execution_count": null,
   "metadata": {},
   "outputs": [],
   "source": [
    "\"\"\" Possible improvements \"\"\"\n",
    "#Input points. What is the end date, now or different. If different fill it in.\n",
    "#If different what are the dates you worked from abroad.\n",
    "#Add weekend days counter, and public holidays counter. "
   ]
  },
  {
   "cell_type": "markdown",
   "metadata": {},
   "source": [
    "Below, make changes to the abr list if necessary"
   ]
  },
  {
   "cell_type": "code",
   "execution_count": 37,
   "metadata": {},
   "outputs": [
    {
     "name": "stdout",
     "output_type": "stream",
     "text": [
      "Fill in the end date you want to calculate for: \n",
      "Days abroad in the last year: 31\n",
      "Days abroad left: 149\n",
      "Days you worked from abroad:  ['2022,December']\n"
     ]
    }
   ],
   "source": [
    "#below fill in the dates you worked from abroad in the past year\n",
    "abr = ['2021,September','2021,October,22-29']\n",
    "\n",
    "time = input('Do you want to count how many days were already used in the past year? [Yes/No]')\n",
    "if time == 'Yes':\n",
    "    dt = datetime.now()\n",
    "    dbf = dt - timedelta(days=364)\n",
    "    count_days(dbf,abr)\n",
    "elif time == 'No':\n",
    "    print('Fill in the end date you want to calculate for: ')\n",
    "    year = input('Year: ')\n",
    "    month = input('Month: ')\n",
    "    day = input('Day: ')\n",
    "    dt = datetime(year=int(year),month=int(month),day=int(day))\n",
    "    dbf = dt - timedelta(days=364)\n",
    "    count_days(dbf,list())\n",
    "else:\n",
    "    print('Please enter either Yes or No')\n",
    "    "
   ]
  }
 ],
 "metadata": {
  "kernelspec": {
   "display_name": "Python 3",
   "language": "python",
   "name": "python3"
  },
  "language_info": {
   "codemirror_mode": {
    "name": "ipython",
    "version": 3
   },
   "file_extension": ".py",
   "mimetype": "text/x-python",
   "name": "python",
   "nbconvert_exporter": "python",
   "pygments_lexer": "ipython3",
   "version": "3.10.4"
  }
 },
 "nbformat": 4,
 "nbformat_minor": 4
}
